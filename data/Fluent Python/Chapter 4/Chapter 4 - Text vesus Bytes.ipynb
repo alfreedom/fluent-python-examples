{
 "metadata": {
  "language_info": {
   "codemirror_mode": {
    "name": "ipython",
    "version": 3
   },
   "file_extension": ".py",
   "mimetype": "text/x-python",
   "name": "python",
   "nbconvert_exporter": "python",
   "pygments_lexer": "ipython3",
   "version": "3.8.5-final"
  },
  "orig_nbformat": 2,
  "kernelspec": {
   "name": "python3",
   "display_name": "Python 3.8.5 64-bit ('fastapi': conda)",
   "metadata": {
    "interpreter": {
     "hash": "722cb5432561123a00cff8e325999f7247179debba0b63b73192f272cc0aa18d"
    }
   }
  }
 },
 "nbformat": 4,
 "nbformat_minor": 2,
 "cells": [
  {
   "source": [
    "# Chapter 4 - Text versus Bytes"
   ],
   "cell_type": "markdown",
   "metadata": {}
  },
  {
   "source": [
    "## Example 4-1. Encoding and decoding"
   ],
   "cell_type": "markdown",
   "metadata": {}
  },
  {
   "cell_type": "code",
   "execution_count": 1,
   "metadata": {},
   "outputs": [
    {
     "output_type": "stream",
     "name": "stdout",
     "text": [
      "café\n4\nb'caf\\xc3\\xa9'\n5\n"
     ]
    },
    {
     "output_type": "execute_result",
     "data": {
      "text/plain": [
       "'café'"
      ]
     },
     "metadata": {},
     "execution_count": 1
    }
   ],
   "source": [
    "s = 'café'\n",
    "print(s)\n",
    "print(len(s))\n",
    "\n",
    "b = s.encode('utf-8')\n",
    "print(b)\n",
    "print(len(b))\n",
    "\n",
    "b.decode('utf-8')"
   ]
  },
  {
   "source": [
    "## Example 4-2. Five-byte sequence as bytes and as bytearray"
   ],
   "cell_type": "markdown",
   "metadata": {}
  },
  {
   "cell_type": "code",
   "execution_count": 2,
   "metadata": {},
   "outputs": [
    {
     "output_type": "stream",
     "name": "stdout",
     "text": [
      "b'caf\\xc3\\xa9'\n99\nb'c'\n"
     ]
    }
   ],
   "source": [
    "cafe = bytes('café', encoding='utf_8')\n",
    "print(cafe)\n",
    "\n",
    "print(cafe[0])\n",
    "print(cafe[:1])"
   ]
  },
  {
   "cell_type": "code",
   "execution_count": 3,
   "metadata": {},
   "outputs": [
    {
     "output_type": "stream",
     "name": "stdout",
     "text": [
      "bytearray(b'caf\\xc3\\xa9')\n"
     ]
    },
    {
     "output_type": "execute_result",
     "data": {
      "text/plain": [
       "bytearray(b'\\xa9')"
      ]
     },
     "metadata": {},
     "execution_count": 3
    }
   ],
   "source": [
    "cafe_arr = bytearray(cafe)\n",
    "print(cafe_arr)\n",
    "\n",
    "cafe_arr[-1:]"
   ]
  },
  {
   "cell_type": "code",
   "execution_count": 4,
   "metadata": {},
   "outputs": [
    {
     "output_type": "execute_result",
     "data": {
      "text/plain": [
       "b'1K\\xce\\xa9'"
      ]
     },
     "metadata": {},
     "execution_count": 4
    }
   ],
   "source": [
    "bytes.fromhex('31 4B CE A9')"
   ]
  },
  {
   "source": [
    "## Example 4-3. Initializing bytes from the raw data of an array"
   ],
   "cell_type": "markdown",
   "metadata": {}
  },
  {
   "cell_type": "code",
   "execution_count": 5,
   "metadata": {},
   "outputs": [
    {
     "output_type": "stream",
     "name": "stdout",
     "text": [
      "b'\\xfe\\xff\\xff\\xff\\x00\\x00\\x01\\x00\\x02\\x00'\n"
     ]
    }
   ],
   "source": [
    "import array\n",
    "\n",
    "numbers = array.array('h', [-2, -1, 0, 1, 2])\n",
    "octets = bytes(numbers)\n",
    "print(octets)"
   ]
  },
  {
   "source": [
    "## Example 4-4.  Using memoryview and struc to inspec a GIF image header"
   ],
   "cell_type": "markdown",
   "metadata": {}
  },
  {
   "cell_type": "code",
   "execution_count": 6,
   "metadata": {},
   "outputs": [
    {
     "output_type": "stream",
     "name": "stdout",
     "text": [
      "b'GIF89a\\xf2\\x01\\x18\\x01'\n(b'GIF', b'89a', 498, 280)\n"
     ]
    }
   ],
   "source": [
    "import struct\n",
    "\n",
    "fmt = '<3s3sHH'\n",
    "\n",
    "with open('sample.gif', 'rb') as fp:\n",
    "    img = memoryview(fp.read())\n",
    "\n",
    "header = img[:10]\n",
    "header_bytes = bytes(header)\n",
    "print(header_bytes)\n",
    "\n",
    "unpacked = struct.unpack(fmt, header)\n",
    "print(unpacked)\n",
    "\n",
    "del header\n",
    "del header_bytes\n",
    "del unpacked\n",
    "del img"
   ]
  },
  {
   "source": [
    "## Example 4-5. The string \"El Niño\" encoded with three codecs producing very different bytes sequences"
   ],
   "cell_type": "markdown",
   "metadata": {}
  },
  {
   "cell_type": "code",
   "execution_count": 7,
   "metadata": {},
   "outputs": [
    {
     "output_type": "stream",
     "name": "stdout",
     "text": [
      "latin_1\tb'El Ni\\xf1o'\nutf_8\tb'El Ni\\xc3\\xb1o'\nutf_16\tb'\\xff\\xfeE\\x00l\\x00 \\x00N\\x00i\\x00\\xf1\\x00o\\x00'\n"
     ]
    }
   ],
   "source": [
    "\n",
    "s = 'El Niño'\n",
    "for codec in ['latin_1', 'utf_8', 'utf_16']:\n",
    "    print(codec, s.encode(codec), sep='\\t')"
   ]
  },
  {
   "source": [
    "## Example 4-6. Encodign to bytes: success and error handling"
   ],
   "cell_type": "markdown",
   "metadata": {}
  },
  {
   "cell_type": "code",
   "execution_count": 8,
   "metadata": {},
   "outputs": [
    {
     "output_type": "execute_result",
     "data": {
      "text/plain": [
       "b'S\\xc3\\xa3o Paulo'"
      ]
     },
     "metadata": {},
     "execution_count": 8
    }
   ],
   "source": [
    "city = 'São Paulo'\n",
    "city.encode('utf-8')"
   ]
  },
  {
   "cell_type": "code",
   "execution_count": 9,
   "metadata": {},
   "outputs": [
    {
     "output_type": "execute_result",
     "data": {
      "text/plain": [
       "b'\\xff\\xfeS\\x00\\xe3\\x00o\\x00 \\x00P\\x00a\\x00u\\x00l\\x00o\\x00'"
      ]
     },
     "metadata": {},
     "execution_count": 9
    }
   ],
   "source": [
    "city.encode('utf-16')"
   ]
  },
  {
   "cell_type": "code",
   "execution_count": 10,
   "metadata": {},
   "outputs": [
    {
     "output_type": "execute_result",
     "data": {
      "text/plain": [
       "b'S\\xe3o Paulo'"
      ]
     },
     "metadata": {},
     "execution_count": 10
    }
   ],
   "source": [
    "city.encode('iso8859_1')"
   ]
  },
  {
   "cell_type": "code",
   "execution_count": 11,
   "metadata": {},
   "outputs": [
    {
     "output_type": "error",
     "ename": "UnicodeEncodeError",
     "evalue": "'charmap' codec can't encode character '\\xe3' in position 1: character maps to <undefined>",
     "traceback": [
      "\u001b[1;31m---------------------------------------------------------------------------\u001b[0m",
      "\u001b[1;31mUnicodeEncodeError\u001b[0m                        Traceback (most recent call last)",
      "\u001b[1;32m<ipython-input-11-064a572fd5b6>\u001b[0m in \u001b[0;36m<module>\u001b[1;34m\u001b[0m\n\u001b[1;32m----> 1\u001b[1;33m \u001b[0mcity\u001b[0m\u001b[1;33m.\u001b[0m\u001b[0mencode\u001b[0m\u001b[1;33m(\u001b[0m\u001b[1;34m'cp437'\u001b[0m\u001b[1;33m)\u001b[0m\u001b[1;33m\u001b[0m\u001b[1;33m\u001b[0m\u001b[0m\n\u001b[0m",
      "\u001b[1;32m~\\.conda\\envs\\fastapi\\lib\\encodings\\cp437.py\u001b[0m in \u001b[0;36mencode\u001b[1;34m(self, input, errors)\u001b[0m\n\u001b[0;32m     10\u001b[0m \u001b[1;33m\u001b[0m\u001b[0m\n\u001b[0;32m     11\u001b[0m     \u001b[1;32mdef\u001b[0m \u001b[0mencode\u001b[0m\u001b[1;33m(\u001b[0m\u001b[0mself\u001b[0m\u001b[1;33m,\u001b[0m\u001b[0minput\u001b[0m\u001b[1;33m,\u001b[0m\u001b[0merrors\u001b[0m\u001b[1;33m=\u001b[0m\u001b[1;34m'strict'\u001b[0m\u001b[1;33m)\u001b[0m\u001b[1;33m:\u001b[0m\u001b[1;33m\u001b[0m\u001b[1;33m\u001b[0m\u001b[0m\n\u001b[1;32m---> 12\u001b[1;33m         \u001b[1;32mreturn\u001b[0m \u001b[0mcodecs\u001b[0m\u001b[1;33m.\u001b[0m\u001b[0mcharmap_encode\u001b[0m\u001b[1;33m(\u001b[0m\u001b[0minput\u001b[0m\u001b[1;33m,\u001b[0m\u001b[0merrors\u001b[0m\u001b[1;33m,\u001b[0m\u001b[0mencoding_map\u001b[0m\u001b[1;33m)\u001b[0m\u001b[1;33m\u001b[0m\u001b[1;33m\u001b[0m\u001b[0m\n\u001b[0m\u001b[0;32m     13\u001b[0m \u001b[1;33m\u001b[0m\u001b[0m\n\u001b[0;32m     14\u001b[0m     \u001b[1;32mdef\u001b[0m \u001b[0mdecode\u001b[0m\u001b[1;33m(\u001b[0m\u001b[0mself\u001b[0m\u001b[1;33m,\u001b[0m\u001b[0minput\u001b[0m\u001b[1;33m,\u001b[0m\u001b[0merrors\u001b[0m\u001b[1;33m=\u001b[0m\u001b[1;34m'strict'\u001b[0m\u001b[1;33m)\u001b[0m\u001b[1;33m:\u001b[0m\u001b[1;33m\u001b[0m\u001b[1;33m\u001b[0m\u001b[0m\n",
      "\u001b[1;31mUnicodeEncodeError\u001b[0m: 'charmap' codec can't encode character '\\xe3' in position 1: character maps to <undefined>"
     ]
    }
   ],
   "source": [
    "city.encode('cp437')"
   ]
  },
  {
   "cell_type": "code",
   "execution_count": 12,
   "metadata": {},
   "outputs": [
    {
     "output_type": "execute_result",
     "data": {
      "text/plain": [
       "b'So Paulo'"
      ]
     },
     "metadata": {},
     "execution_count": 12
    }
   ],
   "source": [
    "city.encode('cp437', errors='ignore')"
   ]
  },
  {
   "cell_type": "code",
   "execution_count": 13,
   "metadata": {},
   "outputs": [
    {
     "output_type": "execute_result",
     "data": {
      "text/plain": [
       "b'S?o Paulo'"
      ]
     },
     "metadata": {},
     "execution_count": 13
    }
   ],
   "source": [
    "city.encode('cp437', errors='replace')"
   ]
  },
  {
   "cell_type": "code",
   "execution_count": 14,
   "metadata": {},
   "outputs": [
    {
     "output_type": "execute_result",
     "data": {
      "text/plain": [
       "b'S&#227;o Paulo'"
      ]
     },
     "metadata": {},
     "execution_count": 14
    }
   ],
   "source": [
    "city.encode('cp437', errors='xmlcharrefreplace')"
   ]
  },
  {
   "source": [
    "## Example 4-7. Decoding from str to bytes: succes and error handling"
   ],
   "cell_type": "markdown",
   "metadata": {}
  },
  {
   "cell_type": "code",
   "execution_count": 15,
   "metadata": {},
   "outputs": [
    {
     "output_type": "execute_result",
     "data": {
      "text/plain": [
       "'Montéal'"
      ]
     },
     "metadata": {},
     "execution_count": 15
    }
   ],
   "source": [
    "octets = b'Mont\\xe9al'\n",
    "octets.decode('cp1252')"
   ]
  },
  {
   "cell_type": "code",
   "execution_count": 16,
   "metadata": {},
   "outputs": [
    {
     "output_type": "execute_result",
     "data": {
      "text/plain": [
       "'Montιal'"
      ]
     },
     "metadata": {},
     "execution_count": 16
    }
   ],
   "source": [
    "octets.decode('iso8859_7')"
   ]
  },
  {
   "cell_type": "code",
   "execution_count": 17,
   "metadata": {},
   "outputs": [
    {
     "output_type": "execute_result",
     "data": {
      "text/plain": [
       "'MontИal'"
      ]
     },
     "metadata": {},
     "execution_count": 17
    }
   ],
   "source": [
    "octets.decode('koi8_r')"
   ]
  },
  {
   "cell_type": "code",
   "execution_count": 18,
   "metadata": {},
   "outputs": [
    {
     "output_type": "error",
     "ename": "UnicodeDecodeError",
     "evalue": "'utf-8' codec can't decode byte 0xe9 in position 4: invalid continuation byte",
     "traceback": [
      "\u001b[1;31m---------------------------------------------------------------------------\u001b[0m",
      "\u001b[1;31mUnicodeDecodeError\u001b[0m                        Traceback (most recent call last)",
      "\u001b[1;32m<ipython-input-18-15cc3c10775a>\u001b[0m in \u001b[0;36m<module>\u001b[1;34m\u001b[0m\n\u001b[1;32m----> 1\u001b[1;33m \u001b[0moctets\u001b[0m\u001b[1;33m.\u001b[0m\u001b[0mdecode\u001b[0m\u001b[1;33m(\u001b[0m\u001b[1;34m'utf-8'\u001b[0m\u001b[1;33m)\u001b[0m\u001b[1;33m\u001b[0m\u001b[1;33m\u001b[0m\u001b[0m\n\u001b[0m",
      "\u001b[1;31mUnicodeDecodeError\u001b[0m: 'utf-8' codec can't decode byte 0xe9 in position 4: invalid continuation byte"
     ]
    }
   ],
   "source": [
    "octets.decode('utf-8')"
   ]
  },
  {
   "cell_type": "code",
   "execution_count": 19,
   "metadata": {},
   "outputs": [
    {
     "output_type": "execute_result",
     "data": {
      "text/plain": [
       "'Mont�al'"
      ]
     },
     "metadata": {},
     "execution_count": 19
    }
   ],
   "source": [
    "octets.decode('utf-8', errors='replace')"
   ]
  },
  {
   "source": [
    "## Example 4-9. A platform encoding issue (if you try this in your machine, ypu may or may not see the problem)"
   ],
   "cell_type": "markdown",
   "metadata": {}
  },
  {
   "cell_type": "code",
   "execution_count": 20,
   "metadata": {},
   "outputs": [
    {
     "output_type": "execute_result",
     "data": {
      "text/plain": [
       "'cafÃ©'"
      ]
     },
     "metadata": {},
     "execution_count": 20
    }
   ],
   "source": [
    "open('cafe.txt', 'w', encoding='utf-8').write('café')\n",
    "\n",
    "open('cafe.txt').read()"
   ]
  },
  {
   "source": [
    "## Example 4-10. Closer inspection of example 4-9 running on Windows reveals the bug and how fix it."
   ],
   "cell_type": "markdown",
   "metadata": {}
  },
  {
   "cell_type": "code",
   "execution_count": 21,
   "metadata": {},
   "outputs": [
    {
     "output_type": "execute_result",
     "data": {
      "text/plain": [
       "<_io.TextIOWrapper name='cafe.txt' mode='w' encoding='utf-8'>"
      ]
     },
     "metadata": {},
     "execution_count": 21
    }
   ],
   "source": [
    "fp = open('cafe.txt', 'w', encoding='utf-8')\n",
    "fp"
   ]
  },
  {
   "cell_type": "code",
   "execution_count": 22,
   "metadata": {},
   "outputs": [
    {
     "output_type": "execute_result",
     "data": {
      "text/plain": [
       "4"
      ]
     },
     "metadata": {},
     "execution_count": 22
    }
   ],
   "source": [
    "fp.write('café')"
   ]
  },
  {
   "cell_type": "code",
   "execution_count": 23,
   "metadata": {},
   "outputs": [],
   "source": [
    "fp.close()"
   ]
  },
  {
   "cell_type": "code",
   "execution_count": 24,
   "metadata": {},
   "outputs": [
    {
     "output_type": "execute_result",
     "data": {
      "text/plain": [
       "5"
      ]
     },
     "metadata": {},
     "execution_count": 24
    }
   ],
   "source": [
    "import os\n",
    "os.stat('cafe.txt').st_size"
   ]
  },
  {
   "cell_type": "code",
   "execution_count": 25,
   "metadata": {},
   "outputs": [
    {
     "output_type": "execute_result",
     "data": {
      "text/plain": [
       "<_io.TextIOWrapper name='cafe.txt' mode='r' encoding='cp1252'>"
      ]
     },
     "metadata": {},
     "execution_count": 25
    }
   ],
   "source": [
    "fp2 = open('cafe.txt')\n",
    "fp2"
   ]
  },
  {
   "source": [
    "## Example 4-11. Exploring encoding defaults"
   ],
   "cell_type": "markdown",
   "metadata": {}
  },
  {
   "cell_type": "code",
   "execution_count": 26,
   "metadata": {},
   "outputs": [
    {
     "output_type": "stream",
     "name": "stdout",
     "text": [
      " locale.getpreferredencoding() -> 'cp1252'\n                  type(myfile) -> <class '_io.TextIOWrapper'>\n               myfile.encoding -> 'cp1252'\n           sys.stdout.isatty() -> False\n           sys.stdout.encoding -> 'UTF-8'\n            sys.stdin.isatty() -> False\n            sys.stdin.encoding -> 'utf-8'\n           sys.stderr.isatty() -> False\n           sys.stderr.encoding -> 'UTF-8'\n      sys.getdefaultencoding() -> 'utf-8'\n   sys.getfilesystemencoding() -> 'utf-8'\n"
     ]
    }
   ],
   "source": [
    "import sys, locale\n",
    "\n",
    "expressions= \"\"\"\n",
    "    locale.getpreferredencoding()\n",
    "    type(myfile)\n",
    "    myfile.encoding\n",
    "    sys.stdout.isatty()\n",
    "    sys.stdout.encoding\n",
    "    sys.stdin.isatty()\n",
    "    sys.stdin.encoding\n",
    "    sys.stderr.isatty()\n",
    "    sys.stderr.encoding\n",
    "    sys.getdefaultencoding()\n",
    "    sys.getfilesystemencoding()\n",
    "    \n",
    "\"\"\"\n",
    "myfile = open('dummy', 'w')\n",
    "\n",
    "for expresion in expressions.split():\n",
    "    value = eval(expresion)\n",
    "    print(expresion.rjust(30), '->', repr(value))"
   ]
  },
  {
   "source": [
    "# Normalizing Unicode for Saner Comparisons"
   ],
   "cell_type": "markdown",
   "metadata": {}
  },
  {
   "cell_type": "code",
   "execution_count": 27,
   "metadata": {},
   "outputs": [
    {
     "output_type": "execute_result",
     "data": {
      "text/plain": [
       "('café', 'café')"
      ]
     },
     "metadata": {},
     "execution_count": 27
    }
   ],
   "source": [
    "s1 = 'café'\r\n",
    "s2 = 'cafe\\u0301'\r\n",
    "\r\n",
    "s1, s2"
   ]
  },
  {
   "cell_type": "code",
   "execution_count": 28,
   "metadata": {},
   "outputs": [
    {
     "output_type": "execute_result",
     "data": {
      "text/plain": [
       "(4, 5)"
      ]
     },
     "metadata": {},
     "execution_count": 28
    }
   ],
   "source": [
    "len(s1), len(s2)"
   ]
  },
  {
   "cell_type": "code",
   "execution_count": 29,
   "metadata": {},
   "outputs": [
    {
     "output_type": "execute_result",
     "data": {
      "text/plain": [
       "False"
      ]
     },
     "metadata": {},
     "execution_count": 29
    }
   ],
   "source": [
    "s1 == s2"
   ]
  },
  {
   "cell_type": "code",
   "execution_count": 34,
   "metadata": {},
   "outputs": [
    {
     "output_type": "stream",
     "name": "stdout",
     "text": [
      "4 5\n4 4\nTrue\n5 5\nTrue\n"
     ]
    }
   ],
   "source": [
    "from unicodedata import normalize\n",
    "\n",
    "s1 = 'café'\n",
    "s2 = 'cafe\\u0301'\n",
    "\n",
    "print(len(s1), len(s2))\n",
    "\n",
    "ns1 = normalize('NFC', s1)\n",
    "ns2 = normalize('NFC', s2)\n",
    "print(len(ns1), len(ns2))\n",
    "print(ns1 == ns2)\n",
    "\n",
    "n2s1 = normalize('NFD', s1)\n",
    "n2s2 = normalize('NFD', s2)\n",
    "print(len(n2s1), len(n2s2))\n",
    "print(ns1 == ns2)\n"
   ]
  },
  {
   "cell_type": "code",
   "execution_count": 39,
   "metadata": {},
   "outputs": [
    {
     "output_type": "stream",
     "name": "stdout",
     "text": [
      "OHM SIGN\nGREEK CAPITAL LETTER OMEGA\nFalse\n"
     ]
    },
    {
     "output_type": "execute_result",
     "data": {
      "text/plain": [
       "True"
      ]
     },
     "metadata": {},
     "execution_count": 39
    }
   ],
   "source": [
    "from unicodedata import normalize, name\n",
    "\n",
    "ohm = '\\u2126'\n",
    "print(name(ohm))\n",
    "\n",
    "ohm_c = normalize('NFC', ohm)\n",
    "print(name(ohm_c))\n",
    "\n",
    "print(ohm == ohm_c)\n",
    "\n",
    "normalize('NFC', ohm) == normalize('NFC', ohm_c)"
   ]
  },
  {
   "source": [
    "## Example 4-14. Function to remove all combining marks."
   ],
   "cell_type": "markdown",
   "metadata": {}
  },
  {
   "cell_type": "code",
   "execution_count": 55,
   "metadata": {},
   "outputs": [],
   "source": [
    "import unicodedata\r\n",
    "import string\r\n",
    "\r\n",
    "def shave_marks(txt):\r\n",
    "    norm_txt = unicodedata.normalize('NFD', txt)\r\n",
    "    shaved = ''.join(c for c in norm_txt if not unicodedata.combining(c))\r\n",
    "    return unicodedata.normalize('NFC', shaved)"
   ]
  },
  {
   "source": [
    "## Example 4-15. Two examples using shave_marks from Example 4-14"
   ],
   "cell_type": "markdown",
   "metadata": {}
  },
  {
   "cell_type": "code",
   "execution_count": 47,
   "metadata": {},
   "outputs": [
    {
     "output_type": "execute_result",
     "data": {
      "text/plain": [
       "'“Herr Voß: • ½ cup of Œtker™ caffe latte • bowl of acai.”'"
      ]
     },
     "metadata": {},
     "execution_count": 47
    }
   ],
   "source": [
    "order = '“Herr Voß: • ½ cup of Œtker™ caffè latte • bowl of açaí.”'\n",
    "shave_marks(order)"
   ]
  },
  {
   "cell_type": "code",
   "execution_count": 56,
   "metadata": {},
   "outputs": [
    {
     "output_type": "execute_result",
     "data": {
      "text/plain": [
       "'Ζεφυρος, Zefiro'"
      ]
     },
     "metadata": {},
     "execution_count": 56
    }
   ],
   "source": [
    "greek = 'Ζέφυρος, Zéfiro'\n",
    "shave_marks(greek)"
   ]
  },
  {
   "source": [
    "## Example 4-16. Function to remove combining marks from Latin characters."
   ],
   "cell_type": "markdown",
   "metadata": {}
  },
  {
   "cell_type": "code",
   "execution_count": 58,
   "metadata": {},
   "outputs": [],
   "source": [
    "def shave_marks_latin(txt):\n",
    "    norm_txt = unicodedata.normalize('NFD', txt)\n",
    "    latin_base = False\n",
    "    keepers = []\n",
    "    for c in norm_txt:\n",
    "        if unicodedata.combining(c) and latin_base:\n",
    "            continue\n",
    "\n",
    "        keepers.append(c)\n",
    "        if not unicodedata.combining(c):\n",
    "            latin_base = c in string.ascii_letters\n",
    "\n",
    "    shaved = ''.join(keepers)\n",
    "    return unicodedata.normalize('NFC', shaved)"
   ]
  },
  {
   "cell_type": "code",
   "execution_count": 59,
   "metadata": {},
   "outputs": [
    {
     "output_type": "execute_result",
     "data": {
      "text/plain": [
       "'“Herr Voß: • ½ cup of Œtker™ caffe latte • bowl of acai.”'"
      ]
     },
     "metadata": {},
     "execution_count": 59
    }
   ],
   "source": [
    "shave_marks_latin(order)"
   ]
  },
  {
   "cell_type": "code",
   "execution_count": 60,
   "metadata": {},
   "outputs": [
    {
     "output_type": "execute_result",
     "data": {
      "text/plain": [
       "True"
      ]
     },
     "metadata": {},
     "execution_count": 60
    }
   ],
   "source": [
    "shave_marks(order) == shave_marks_latin(order)"
   ]
  },
  {
   "source": [
    "## Example 4-17. Transform some Western typographical symbols into ASCII"
   ],
   "cell_type": "markdown",
   "metadata": {}
  },
  {
   "cell_type": "code",
   "execution_count": 67,
   "metadata": {},
   "outputs": [],
   "source": [
    "single_map = str.maketrans(\"\"\"‚ƒ„†ˆ‹‘’“”•–—˜›\"\"\",\r\n",
    "                           \"\"\"'f\"*^<''\"\"---~>\"\"\")\r\n",
    "\r\n",
    "multi_map = str.maketrans({\r\n",
    "    '€': '<euro>',\r\n",
    "    '…': '...',\r\n",
    "    'Œ': 'OE',\r\n",
    "    '™': '(TM)',\r\n",
    "    'œ': 'oe',\r\n",
    "    '‰': '<per mille>',\r\n",
    "    '‡': '**',\r\n",
    "})\r\n",
    "\r\n",
    "multi_map.update(single_map)\r\n",
    "\r\n",
    "def dewinize(txt):\r\n",
    "    return txt.translate(multi_map)\r\n",
    "\r\n",
    "def asciize(txt):\r\n",
    "    no_marks = shave_marks_latin(dewinize(txt))\r\n",
    "    no_marks = no_marks.replace('ß', 'ss')\r\n",
    "    return unicodedata.normalize('NFC', no_marks)"
   ]
  },
  {
   "cell_type": "code",
   "execution_count": 68,
   "metadata": {},
   "outputs": [
    {
     "output_type": "execute_result",
     "data": {
      "text/plain": [
       "'\"Herr Voß: - ½ cup of OEtker(TM) caffè latte - bowl of açaí.\"'"
      ]
     },
     "metadata": {},
     "execution_count": 68
    }
   ],
   "source": [
    "dewinize(order)"
   ]
  },
  {
   "cell_type": "code",
   "execution_count": 72,
   "metadata": {},
   "outputs": [
    {
     "output_type": "execute_result",
     "data": {
      "text/plain": [
       "'Ζέφυρος, Zéfiro'"
      ]
     },
     "metadata": {},
     "execution_count": 72
    }
   ],
   "source": [
    "dewinize(greek)"
   ]
  },
  {
   "source": [
    "## Example 4-18. Two examples using asciize from Example 4-17"
   ],
   "cell_type": "markdown",
   "metadata": {}
  },
  {
   "cell_type": "code",
   "execution_count": 73,
   "metadata": {},
   "outputs": [
    {
     "output_type": "execute_result",
     "data": {
      "text/plain": [
       "'\"Herr Voss: - ½ cup of OEtker(TM) caffe latte - bowl of acai.\"'"
      ]
     },
     "metadata": {},
     "execution_count": 73
    }
   ],
   "source": [
    "asciize(order)"
   ]
  },
  {
   "cell_type": "code",
   "execution_count": 74,
   "metadata": {},
   "outputs": [
    {
     "output_type": "execute_result",
     "data": {
      "text/plain": [
       "'Ζέφυρος, Zefiro'"
      ]
     },
     "metadata": {},
     "execution_count": 74
    }
   ],
   "source": [
    "asciize(greek)"
   ]
  },
  {
   "source": [
    "# Sorting Unicode Text"
   ],
   "cell_type": "markdown",
   "metadata": {}
  },
  {
   "cell_type": "code",
   "execution_count": 75,
   "metadata": {},
   "outputs": [
    {
     "output_type": "execute_result",
     "data": {
      "text/plain": [
       "['acai', 'acerola', 'atemoia', 'caju', 'cajá']"
      ]
     },
     "metadata": {},
     "execution_count": 75
    }
   ],
   "source": [
    "fruits = ['caju', 'atemoia', 'cajá', 'acai', 'acerola']\n",
    "\n",
    "sorted(fruits)"
   ]
  },
  {
   "source": [
    "## Example 4-19. Using the locale.strxfrm function as sort key"
   ],
   "cell_type": "markdown",
   "metadata": {}
  },
  {
   "cell_type": "code",
   "execution_count": 79,
   "metadata": {},
   "outputs": [
    {
     "output_type": "stream",
     "name": "stdout",
     "text": [
      "['acai', 'acerola', 'atemoia', 'cajá', 'caju']\n"
     ]
    }
   ],
   "source": [
    "import locale\n",
    "\n",
    "locale.setlocale(locale.LC_COLLATE, 'pt_BR.UTF-8')\n",
    "\n",
    "fruits = ['caju', 'atemoia', 'cajá', 'acai', 'acerola']\n",
    "\n",
    "sorted_fruits = sorted(fruits, key=locale.strxfrm)\n",
    "print(sorted_fruits)"
   ]
  },
  {
   "source": [
    "# Sorting with the Unicode Collation Algorithm"
   ],
   "cell_type": "markdown",
   "metadata": {}
  },
  {
   "source": [
    "## Example 4-20. Using the pyuca.Collator.sort_key method"
   ],
   "cell_type": "markdown",
   "metadata": {}
  },
  {
   "cell_type": "code",
   "execution_count": 84,
   "metadata": {},
   "outputs": [
    {
     "output_type": "stream",
     "name": "stdout",
     "text": [
      "['acai', 'acerola', 'atemoia', 'cajá', 'caju']\n"
     ]
    }
   ],
   "source": [
    "import pyuca\n",
    "\n",
    "coll = pyuca.Collator()\n",
    "fruits = ['caju', 'atemoia', 'cajá', 'acai', 'acerola']\n",
    "sorted_fruits = sorted(fruits, key=coll.sort_key)\n",
    "print(sorted_fruits)"
   ]
  },
  {
   "source": [
    "# The Unicode Database"
   ],
   "cell_type": "markdown",
   "metadata": {}
  },
  {
   "source": [
    "## Example 4-21. Demo of Unicode daabase numerical character metadata (callouts describe each column in the output)"
   ],
   "cell_type": "markdown",
   "metadata": {}
  },
  {
   "cell_type": "code",
   "execution_count": 85,
   "metadata": {},
   "outputs": [
    {
     "output_type": "stream",
     "name": "stdout",
     "text": [
      "U+0031\t  1   \tre_dig\tisdigit\tisnum\t 1.00\tDIGIT ONE\nU+00bc\t  ¼   \t-\t-\tisnum\t 0.25\tVULGAR FRACTION ONE QUARTER\nU+00b2\t  ²   \t-\tisdigit\tisnum\t 2.00\tSUPERSCRIPT TWO\nU+0969\t  ३   \tre_dig\tisdigit\tisnum\t 3.00\tDEVANAGARI DIGIT THREE\nU+136b\t  ፫   \t-\tisdigit\tisnum\t 3.00\tETHIOPIC DIGIT THREE\nU+216b\t  Ⅻ   \t-\t-\tisnum\t12.00\tROMAN NUMERAL TWELVE\nU+2466\t  ⑦   \t-\tisdigit\tisnum\t 7.00\tCIRCLED DIGIT SEVEN\nU+2480\t  ⒀   \t-\t-\tisnum\t13.00\tPARENTHESIZED NUMBER THIRTEEN\nU+3285\t  ㊅   \t-\t-\tisnum\t 6.00\tCIRCLED IDEOGRAPH SIX\n"
     ]
    }
   ],
   "source": [
    "import unicodedata\n",
    "import re\n",
    "\n",
    "re_digit = re.compile('\\d')\n",
    "\n",
    "sample = '1\\xbc\\xb2\\u0969\\u136b\\u216b\\u2466\\u2480\\u3285'\n",
    "\n",
    "for char in sample:\n",
    "    print('U+%04x' % ord(char),\n",
    "        char.center(6),\n",
    "        're_dig' if re_digit.match(char) else '-',\n",
    "        'isdigit' if char.isdigit() else '-',\n",
    "        'isnum' if char.isnumeric() else '-',\n",
    "        format(unicodedata.numeric(char), '5.2f'),\n",
    "        unicodedata.name(char),\n",
    "        sep='\\t'\n",
    "    )\n",
    "    "
   ]
  },
  {
   "source": [
    "## Example 4-22. Compare behavior of simple str and bytes regular expressions"
   ],
   "cell_type": "markdown",
   "metadata": {}
  },
  {
   "cell_type": "code",
   "execution_count": 3,
   "metadata": {},
   "outputs": [
    {
     "output_type": "stream",
     "name": "stdout",
     "text": [
      "Text\n'Ramanujan saw ௧௭௨௯ as 1729 = 1³ + 12³ = 9³ + 10³.'\nNumbers\n  str  : ['௧௭௨௯', '1729', '1', '12', '9', '10']\n  bytes  : [b'1729', b'1', b'12', b'9', b'10']\nWords\n  str  : ['Ramanujan', 'saw', '௧௭௨௯', 'as', '1729', '1³', '12³', '9³', '10³']\n  bytes  : [b'Ramanujan', b'saw', b'as', b'1729', b'1', b'12', b'9', b'10']\n"
     ]
    }
   ],
   "source": [
    "import re\n",
    "\n",
    "re_numbers_str = re.compile(r'\\d+')\n",
    "re_words_str = re.compile(r'\\w+')\n",
    "re_numbers_bytes = re.compile(rb'\\d+')\n",
    "re_words_bytes = re.compile(rb'\\w+')\n",
    "\n",
    "text_str = (\"Ramanujan saw \\u0be7\\u0bed\\u0be8\\u0bef\"\n",
    "            \" as 1729 = 1³ + 12³ = 9³ + 10³.\")\n",
    "\n",
    "text_bytes = text_str.encode('utf-8')\n",
    "print('Text', repr(text_str), sep='\\n')\n",
    "print('Numbers')\n",
    "print('  str  :', re_numbers_str.findall(text_str))\n",
    "print('  bytes  :', re_numbers_bytes.findall(text_bytes))\n",
    "print('Words')\n",
    "print('  str  :', re_words_str.findall(text_str))\n",
    "print('  bytes  :', re_words_bytes.findall(text_bytes))"
   ]
  },
  {
   "cell_type": "code",
   "execution_count": null,
   "metadata": {},
   "outputs": [],
   "source": []
  }
 ]
}