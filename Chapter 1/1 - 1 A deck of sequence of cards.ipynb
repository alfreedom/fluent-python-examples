{
 "cells": [
  {
   "cell_type": "markdown",
   "metadata": {},
   "source": [
    "# Example 1-1 A dock of a sequence of card"
   ]
  },
  {
   "cell_type": "code",
   "execution_count": 1,
   "metadata": {},
   "outputs": [],
   "source": [
    "import collections\n",
    "\n",
    "Card = collections.namedtuple('Card', ['rank', 'suite'])\n",
    "\n",
    "class FrenchDeck:\n",
    "    ranks = [str(n) for n in range(2, 11)] + list('JQKA')\n",
    "    suits = 'spades diamonds clubs hearts'.split()\n",
    "    \n",
    "    def __init__(self):\n",
    "        self._cards = [Card(rank, suit)\n",
    "                       for suit in self.suits\n",
    "                       for rank in self.ranks\n",
    "                      ]\n",
    "    \n",
    "    def __len__(self):\n",
    "        return len(self._cards)\n",
    "    \n",
    "    def __getitem__(self, index):\n",
    "        return self._cards[index]"
   ]
  },
  {
   "cell_type": "code",
   "execution_count": 2,
   "metadata": {},
   "outputs": [
    {
     "name": "stdout",
     "output_type": "stream",
     "text": [
      "52\n",
      "Card(rank='2', suite='spades')\n",
      "Card(rank='A', suite='hearts')\n"
     ]
    }
   ],
   "source": [
    "deck = FrenchDeck()\n",
    "deck_len = len(deck)\n",
    "\n",
    "print(deck_len)\n",
    "\n",
    "print(deck[0])\n",
    "print(deck[-1])"
   ]
  },
  {
   "cell_type": "markdown",
   "metadata": {},
   "source": [
    "### Choose a random deck card"
   ]
  },
  {
   "cell_type": "code",
   "execution_count": 3,
   "metadata": {},
   "outputs": [
    {
     "data": {
      "text/plain": [
       "Card(rank='8', suite='hearts')"
      ]
     },
     "execution_count": 3,
     "metadata": {},
     "output_type": "execute_result"
    }
   ],
   "source": [
    "from random import choice\n",
    "\n",
    "choice(deck)"
   ]
  },
  {
   "cell_type": "markdown",
   "metadata": {},
   "source": [
    "# Iterate over deck cards"
   ]
  },
  {
   "cell_type": "code",
   "execution_count": 4,
   "metadata": {},
   "outputs": [
    {
     "name": "stdout",
     "output_type": "stream",
     "text": [
      "Card(rank='2', suite='spades')\n",
      "Card(rank='3', suite='spades')\n",
      "Card(rank='4', suite='spades')\n",
      "Card(rank='5', suite='spades')\n",
      "Card(rank='6', suite='spades')\n",
      "Card(rank='7', suite='spades')\n",
      "Card(rank='8', suite='spades')\n",
      "Card(rank='9', suite='spades')\n",
      "Card(rank='10', suite='spades')\n",
      "Card(rank='J', suite='spades')\n",
      "Card(rank='Q', suite='spades')\n",
      "Card(rank='K', suite='spades')\n",
      "Card(rank='A', suite='spades')\n",
      "Card(rank='2', suite='diamonds')\n",
      "Card(rank='3', suite='diamonds')\n",
      "Card(rank='4', suite='diamonds')\n",
      "Card(rank='5', suite='diamonds')\n",
      "Card(rank='6', suite='diamonds')\n",
      "Card(rank='7', suite='diamonds')\n",
      "Card(rank='8', suite='diamonds')\n",
      "Card(rank='9', suite='diamonds')\n",
      "Card(rank='10', suite='diamonds')\n",
      "Card(rank='J', suite='diamonds')\n",
      "Card(rank='Q', suite='diamonds')\n",
      "Card(rank='K', suite='diamonds')\n",
      "Card(rank='A', suite='diamonds')\n",
      "Card(rank='2', suite='clubs')\n",
      "Card(rank='3', suite='clubs')\n",
      "Card(rank='4', suite='clubs')\n",
      "Card(rank='5', suite='clubs')\n",
      "Card(rank='6', suite='clubs')\n",
      "Card(rank='7', suite='clubs')\n",
      "Card(rank='8', suite='clubs')\n",
      "Card(rank='9', suite='clubs')\n",
      "Card(rank='10', suite='clubs')\n",
      "Card(rank='J', suite='clubs')\n",
      "Card(rank='Q', suite='clubs')\n",
      "Card(rank='K', suite='clubs')\n",
      "Card(rank='A', suite='clubs')\n",
      "Card(rank='2', suite='hearts')\n",
      "Card(rank='3', suite='hearts')\n",
      "Card(rank='4', suite='hearts')\n",
      "Card(rank='5', suite='hearts')\n",
      "Card(rank='6', suite='hearts')\n",
      "Card(rank='7', suite='hearts')\n",
      "Card(rank='8', suite='hearts')\n",
      "Card(rank='9', suite='hearts')\n",
      "Card(rank='10', suite='hearts')\n",
      "Card(rank='J', suite='hearts')\n",
      "Card(rank='Q', suite='hearts')\n",
      "Card(rank='K', suite='hearts')\n",
      "Card(rank='A', suite='hearts')\n"
     ]
    }
   ],
   "source": [
    "for card in deck:\n",
    "    print(card)"
   ]
  },
  {
   "cell_type": "code",
   "execution_count": 5,
   "metadata": {},
   "outputs": [
    {
     "name": "stdout",
     "output_type": "stream",
     "text": [
      "Card(rank='A', suite='hearts')\n",
      "Card(rank='K', suite='hearts')\n",
      "Card(rank='Q', suite='hearts')\n",
      "Card(rank='J', suite='hearts')\n",
      "Card(rank='10', suite='hearts')\n",
      "Card(rank='9', suite='hearts')\n",
      "Card(rank='8', suite='hearts')\n",
      "Card(rank='7', suite='hearts')\n",
      "Card(rank='6', suite='hearts')\n",
      "Card(rank='5', suite='hearts')\n",
      "Card(rank='4', suite='hearts')\n",
      "Card(rank='3', suite='hearts')\n",
      "Card(rank='2', suite='hearts')\n",
      "Card(rank='A', suite='clubs')\n",
      "Card(rank='K', suite='clubs')\n",
      "Card(rank='Q', suite='clubs')\n",
      "Card(rank='J', suite='clubs')\n",
      "Card(rank='10', suite='clubs')\n",
      "Card(rank='9', suite='clubs')\n",
      "Card(rank='8', suite='clubs')\n",
      "Card(rank='7', suite='clubs')\n",
      "Card(rank='6', suite='clubs')\n",
      "Card(rank='5', suite='clubs')\n",
      "Card(rank='4', suite='clubs')\n",
      "Card(rank='3', suite='clubs')\n",
      "Card(rank='2', suite='clubs')\n",
      "Card(rank='A', suite='diamonds')\n",
      "Card(rank='K', suite='diamonds')\n",
      "Card(rank='Q', suite='diamonds')\n",
      "Card(rank='J', suite='diamonds')\n",
      "Card(rank='10', suite='diamonds')\n",
      "Card(rank='9', suite='diamonds')\n",
      "Card(rank='8', suite='diamonds')\n",
      "Card(rank='7', suite='diamonds')\n",
      "Card(rank='6', suite='diamonds')\n",
      "Card(rank='5', suite='diamonds')\n",
      "Card(rank='4', suite='diamonds')\n",
      "Card(rank='3', suite='diamonds')\n",
      "Card(rank='2', suite='diamonds')\n",
      "Card(rank='A', suite='spades')\n",
      "Card(rank='K', suite='spades')\n",
      "Card(rank='Q', suite='spades')\n",
      "Card(rank='J', suite='spades')\n",
      "Card(rank='10', suite='spades')\n",
      "Card(rank='9', suite='spades')\n",
      "Card(rank='8', suite='spades')\n",
      "Card(rank='7', suite='spades')\n",
      "Card(rank='6', suite='spades')\n",
      "Card(rank='5', suite='spades')\n",
      "Card(rank='4', suite='spades')\n",
      "Card(rank='3', suite='spades')\n",
      "Card(rank='2', suite='spades')\n"
     ]
    }
   ],
   "source": [
    "for card in reversed(deck):\n",
    "    print(card)"
   ]
  },
  {
   "cell_type": "code",
   "execution_count": null,
   "metadata": {},
   "outputs": [],
   "source": []
  }
 ],
 "metadata": {
  "kernelspec": {
   "display_name": "Python 3",
   "language": "python",
   "name": "python3"
  },
  "language_info": {
   "codemirror_mode": {
    "name": "ipython",
    "version": 3
   },
   "file_extension": ".py",
   "mimetype": "text/x-python",
   "name": "python",
   "nbconvert_exporter": "python",
   "pygments_lexer": "ipython3",
   "version": "3.8.6"
  }
 },
 "nbformat": 4,
 "nbformat_minor": 4
}
