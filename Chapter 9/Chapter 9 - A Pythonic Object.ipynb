{
 "cells": [
  {
   "cell_type": "markdown",
   "metadata": {},
   "source": [
    "---\n",
    "# Chapter 9\n",
    "## A Pythonic Object\n",
    "\n",
    "---"
   ]
  },
  {
   "cell_type": "markdown",
   "metadata": {},
   "source": [
    "## Vector Class Redux"
   ]
  },
  {
   "cell_type": "markdown",
   "metadata": {},
   "source": [
    "---\n",
    "### Example 9-1: Vector2d instance have several representations"
   ]
  },
  {
   "cell_type": "code",
   "execution_count": null,
   "metadata": {},
   "outputs": [],
   "source": [
    "from vector2d_v0 import Vector2d\n",
    "\n",
    "v1 = Vector2d(3, 4)\n",
    "print(v1.x, v1.y)"
   ]
  },
  {
   "cell_type": "code",
   "execution_count": null,
   "metadata": {},
   "outputs": [],
   "source": [
    "x, y = v1\n",
    "x, y"
   ]
  },
  {
   "cell_type": "code",
   "execution_count": null,
   "metadata": {},
   "outputs": [],
   "source": [
    "v1"
   ]
  },
  {
   "cell_type": "code",
   "execution_count": null,
   "metadata": {},
   "outputs": [],
   "source": [
    "v1_clone = eval(repr(v1))\n",
    "v1_clone == v1"
   ]
  },
  {
   "cell_type": "code",
   "execution_count": null,
   "metadata": {},
   "outputs": [],
   "source": [
    "print(v1)"
   ]
  },
  {
   "cell_type": "code",
   "execution_count": null,
   "metadata": {},
   "outputs": [],
   "source": [
    "octets = bytes(v1)\n",
    "octets"
   ]
  },
  {
   "cell_type": "code",
   "execution_count": null,
   "metadata": {},
   "outputs": [],
   "source": [
    "abs(v1)"
   ]
  },
  {
   "cell_type": "code",
   "execution_count": null,
   "metadata": {},
   "outputs": [],
   "source": [
    "bool(v1), bool(Vector2d(0, 0))"
   ]
  },
  {
   "cell_type": "code",
   "execution_count": null,
   "metadata": {},
   "outputs": [],
   "source": []
  },
  {
   "cell_type": "markdown",
   "metadata": {},
   "source": [
    "## An Alternative constructor\n",
    "\n",
    "See the method `frombytes` in the `vector2d_v1.py` file"
   ]
  },
  {
   "cell_type": "markdown",
   "metadata": {},
   "source": [
    "## classmethod Versus staticmethod"
   ]
  },
  {
   "cell_type": "markdown",
   "metadata": {},
   "source": [
    "---\n",
    "### Example 9-4: Comparing behaviors of classmethod and staticmethod"
   ]
  },
  {
   "cell_type": "code",
   "execution_count": null,
   "metadata": {},
   "outputs": [],
   "source": [
    "class Demo:\n",
    "    @classmethod\n",
    "    def klassmeth(*args):\n",
    "        return args\n",
    "\n",
    "    @staticmethod\n",
    "    def statmeth(*args):\n",
    "        return args\n"
   ]
  },
  {
   "cell_type": "code",
   "execution_count": null,
   "metadata": {},
   "outputs": [],
   "source": [
    "Demo.klassmeth()"
   ]
  },
  {
   "cell_type": "code",
   "execution_count": null,
   "metadata": {},
   "outputs": [],
   "source": [
    "Demo.klassmeth('spam')"
   ]
  },
  {
   "cell_type": "code",
   "execution_count": null,
   "metadata": {},
   "outputs": [],
   "source": [
    "Demo.statmeth()"
   ]
  },
  {
   "cell_type": "code",
   "execution_count": null,
   "metadata": {},
   "outputs": [],
   "source": [
    "Demo.statmeth('spam')"
   ]
  },
  {
   "cell_type": "markdown",
   "metadata": {},
   "source": [
    "## Formatted Displays"
   ]
  },
  {
   "cell_type": "markdown",
   "metadata": {},
   "source": [
    "---\n",
    "### Example 9-5: Vector2d.format method, take #1"
   ]
  },
  {
   "cell_type": "code",
   "execution_count": null,
   "metadata": {},
   "outputs": [],
   "source": [
    "from vector2d_v1 import Vector2d\n",
    "\n",
    "v1 = Vector2d(3, 4)"
   ]
  },
  {
   "cell_type": "code",
   "execution_count": null,
   "metadata": {},
   "outputs": [],
   "source": [
    "format(v1)"
   ]
  },
  {
   "cell_type": "code",
   "execution_count": null,
   "metadata": {},
   "outputs": [],
   "source": [
    "format(v1, '0.2f')"
   ]
  },
  {
   "cell_type": "code",
   "execution_count": null,
   "metadata": {},
   "outputs": [],
   "source": [
    "format(v1, '0.3e')"
   ]
  },
  {
   "cell_type": "markdown",
   "metadata": {},
   "source": [
    "---\n",
    "### Example 9-6: Vector2d.format method, take #2, now with polar coordinates"
   ]
  },
  {
   "cell_type": "code",
   "execution_count": null,
   "metadata": {},
   "outputs": [],
   "source": [
    "from vector2d_v2 import Vector2d\n",
    "    "
   ]
  },
  {
   "cell_type": "code",
   "execution_count": null,
   "metadata": {},
   "outputs": [],
   "source": [
    "format(Vector2d(1, 1), 'p')"
   ]
  },
  {
   "cell_type": "code",
   "execution_count": null,
   "metadata": {},
   "outputs": [],
   "source": [
    "format(Vector2d(1, 1), '.3p')"
   ]
  },
  {
   "cell_type": "code",
   "execution_count": null,
   "metadata": {},
   "outputs": [],
   "source": [
    "format(Vector2d(1, 1), '0.5fp')"
   ]
  },
  {
   "cell_type": "markdown",
   "metadata": {},
   "source": [
    "## A Hashable Vector2d"
   ]
  },
  {
   "cell_type": "code",
   "execution_count": null,
   "metadata": {},
   "outputs": [],
   "source": [
    "v1 = Vector2d(3, 4)\n",
    "hash(v1)"
   ]
  },
  {
   "cell_type": "code",
   "execution_count": null,
   "metadata": {},
   "outputs": [],
   "source": [
    "set([v1])"
   ]
  },
  {
   "cell_type": "markdown",
   "metadata": {},
   "source": [
    "---\n",
    "### Example 9-7: vector2d_3.py: only the changes needed to make Vector2d immutable are show here; see full listing in example 9-9."
   ]
  },
  {
   "cell_type": "code",
   "execution_count": null,
   "metadata": {},
   "outputs": [],
   "source": [
    "from vector2d_v3 import Vector2d\n",
    "\n",
    "v1 = Vector2d(3, 4)\n",
    "v2 = Vector2d(3.1, 4.2)\n",
    "hash(v1), hash(v2)"
   ]
  },
  {
   "cell_type": "code",
   "execution_count": null,
   "metadata": {},
   "outputs": [],
   "source": [
    "set([v1, v2])"
   ]
  },
  {
   "cell_type": "markdown",
   "metadata": {},
   "source": [
    "---\n",
    "### Example 9-9: vector2d_v3.py: the full monty"
   ]
  },
  {
   "cell_type": "code",
   "execution_count": null,
   "metadata": {},
   "outputs": [],
   "source": [
    "import math\n",
    "from vector2d_v3 import Vector2d\n",
    "\n",
    "\n",
    "print(\"A two-dimensional vector class\") \n",
    "print('#'*45)\n",
    "\n",
    "v1 = Vector2d(3, 4)\n",
    "print(v1.x, v1.y)\n",
    "\n",
    "x, y = v1\n",
    "print((x, y))\n",
    "\n",
    "print(repr(v1))\n",
    "v1_clone = eval(repr(v1))\n",
    "print(v1_clone == v1)\n",
    "\n",
    "print(v1)\n",
    "\n",
    "octets = bytes(v1)\n",
    "print(octets)\n",
    "\n",
    "v1_abs = abs(v1)\n",
    "print(v1_abs)\n",
    "\n",
    "print(bool(v1), bool(Vector2d(0, 0)))\n"
   ]
  },
  {
   "cell_type": "code",
   "execution_count": null,
   "metadata": {},
   "outputs": [],
   "source": [
    "print(\"Test of `.frombytes()` class method\") \n",
    "print('#'*45)\n",
    "\n",
    "v1_clone = Vector2d.frombytes(bytes(v1))\n",
    "print(repr(v1_clone))\n",
    "print(v1_clone == v1)"
   ]
  },
  {
   "cell_type": "code",
   "execution_count": null,
   "metadata": {},
   "outputs": [],
   "source": [
    "print(\"Test of `format()` with Cartesian coordinates\") \n",
    "print('#'*45)\n",
    "\n",
    "print(format(v1))\n",
    "print(format(v1, '.2f'))\n",
    "print(format(v1, '.3e'))"
   ]
  },
  {
   "cell_type": "code",
   "execution_count": null,
   "metadata": {},
   "outputs": [],
   "source": [
    "print(\"Test of `angle()` method\") \n",
    "print('#'*45)\n",
    "\n",
    "print(Vector2d(0, 0).angle())\n",
    "print(Vector2d(1, 0).angle())\n",
    "epsilon = 10 ** -8\n",
    "print(abs(Vector2d(0, 0).angle() - math.pi/2) < epsilon)\n",
    "print(abs(Vector2d(1, 1).angle() - math.pi/4) < epsilon)"
   ]
  },
  {
   "cell_type": "code",
   "execution_count": null,
   "metadata": {},
   "outputs": [],
   "source": [
    "print(\"Test of `format()` with polar coordinates\") \n",
    "print('#'*45)\n",
    "print(format(Vector2d(1, 1), 'p'))\n",
    "print(format(Vector2d(1, 1), '.3ep'))\n",
    "print(format(Vector2d(1, 1), '0.5fp'))\n",
    "print(abs(Vector2d(1, 1).angle() - math.pi/4) < epsilon)"
   ]
  },
  {
   "cell_type": "code",
   "execution_count": null,
   "metadata": {},
   "outputs": [],
   "source": [
    "print(\"Test of `x` and `y` read-only properties\") \n",
    "print('#'*45)\n",
    "print('v1.x:', v1.x, 'v1.y:', v1.y)\n",
    "v1.x = 123"
   ]
  },
  {
   "cell_type": "code",
   "execution_count": null,
   "metadata": {},
   "outputs": [],
   "source": [
    "print(\"Test of hashing\") \n",
    "print('#'*45)\n",
    "\n",
    "v1 = Vector2d(3, 4)\n",
    "v2 = Vector2d(3.1, 4.2)\n",
    "print('hash(v1):',hash(v1))\n",
    "print('hash(v1):',hash(v2))\n",
    "print('len(set([v1, v2])):', len(set([v1, v2])))"
   ]
  },
  {
   "cell_type": "markdown",
   "metadata": {},
   "source": [
    "## Private and “Protected” Attributes in Python"
   ]
  },
  {
   "cell_type": "markdown",
   "metadata": {},
   "source": [
    "---\n",
    "### Example 9-10: Private attribute names are \"mangled\" by prefixing the `_` and the class name"
   ]
  },
  {
   "cell_type": "code",
   "execution_count": null,
   "metadata": {},
   "outputs": [],
   "source": [
    "v1 = Vector2d(3, 4)\n",
    "v1.__dict__"
   ]
  },
  {
   "cell_type": "code",
   "execution_count": null,
   "metadata": {},
   "outputs": [],
   "source": [
    "v1._Vector2d__x"
   ]
  },
  {
   "cell_type": "markdown",
   "metadata": {},
   "source": [
    "## Saving Space with __slots__ Class Attribute"
   ]
  },
  {
   "cell_type": "markdown",
   "metadata": {},
   "source": [
    "---\n",
    "### Example 9-11: *vector2d_v3_slots.py*: the slots attribute is the only addition to Vector2d\n",
    "\n",
    "See example in file `vector2d_v3_slots.py`"
   ]
  },
  {
   "cell_type": "markdown",
   "metadata": {},
   "source": [
    "---\n",
    "### Example 9-12: *mem_test.py* creates 10 million Vecto2d instances using the class defines in the named module (e.g., vector2d_v3.py)\n",
    "\n",
    "Open the terminal, move to the *Chapter 9* folder and run the next commands:\n",
    "\n",
    "    time python3 mem_test.py vector2d_v3.py\n",
    "\n",
    "    time python3 mem_test.py vector3d_v3_slots.py"
   ]
  },
  {
   "cell_type": "markdown",
   "metadata": {},
   "source": [
    "## Overriding Class Attirbutes"
   ]
  },
  {
   "cell_type": "markdown",
   "metadata": {},
   "source": [
    "---\n",
    "### Example 9-13: Customizing an instance by setting the type code attribute that was formerly inherited from the class"
   ]
  },
  {
   "cell_type": "code",
   "execution_count": null,
   "metadata": {},
   "outputs": [],
   "source": [
    "from  vector2d_v3 import Vector2d\n",
    "\n",
    "v1 = Vector2d(1.1, 2.2)\n",
    "dumpd = bytes(v1)\n",
    "print(dumpd)\n",
    "print(len(dumpd))\n",
    "\n",
    "v1.typecode = 'f'\n",
    "dumpf = bytes(v1)\n",
    "print(dumpf)\n",
    "print(len(dumpf))\n",
    "\n",
    "print(Vector2d.typecode)\n",
    "print(v1.typecode)"
   ]
  },
  {
   "cell_type": "markdown",
   "metadata": {},
   "source": [
    "---\n",
    "### Example 9-14: The ShortVector2d is a subclass of Vector2d, which only overwrites the default typecode"
   ]
  },
  {
   "cell_type": "code",
   "execution_count": null,
   "metadata": {},
   "outputs": [],
   "source": [
    "from vector2d_v3 import Vector2d\n",
    "\n",
    "class ShortVector2d(Vector2d):\n",
    "    typecode = 'f'\n",
    "\n",
    "sv = ShortVector2d(1/11, 1/27)\n",
    "print(repr(sv))\n",
    "print(len(bytes(sv)))"
   ]
  }
 ],
 "metadata": {
  "interpreter": {
   "hash": "901812699ab0ac50b4d411d5a19fd63a43c374d032124de9036ed85af189c09b"
  },
  "kernelspec": {
   "display_name": "Python 3.9.6 64-bit ('fluentpython': pyenv)",
   "name": "python3"
  },
  "language_info": {
   "codemirror_mode": {
    "name": "ipython",
    "version": 3
   },
   "file_extension": ".py",
   "mimetype": "text/x-python",
   "name": "python",
   "nbconvert_exporter": "python",
   "pygments_lexer": "ipython3",
   "version": "3.9.6"
  },
  "orig_nbformat": 4
 },
 "nbformat": 4,
 "nbformat_minor": 2
}
